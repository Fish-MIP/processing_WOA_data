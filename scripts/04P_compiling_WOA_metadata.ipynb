{
 "cells": [
  {
   "cell_type": "markdown",
   "id": "58dd42f9-47b1-4175-bdec-a722f3d2eebc",
   "metadata": {},
   "source": [
    "# Compiling metadata from original WOA23\n",
    "**Author:** Denisse Fierro Arcos  \n",
    "**Date:** 2024-09-05  \n",
    "\n",
    "This script collects the metadata stored in the WOA23 files downloaded from NOAA. The metadata is then used to create a data frame for future reference."
   ]
  },
  {
   "cell_type": "markdown",
   "id": "2b38b249-d787-4b9b-864d-0b66a9d8291a",
   "metadata": {},
   "source": [
    "## Loading libraries"
   ]
  },
  {
   "cell_type": "code",
   "execution_count": null,
   "id": "2f49be8d-6485-401d-9ce1-f308b908c9fb",
   "metadata": {},
   "outputs": [],
   "source": [
    "import netCDF4\n",
    "import os\n",
    "from glob import glob\n",
    "import pandas as pd"
   ]
  },
  {
   "cell_type": "markdown",
   "id": "f60ffd41-ae4d-4857-93ec-2a250f2d1025",
   "metadata": {},
   "source": [
    "## Defining basic variables"
   ]
  },
  {
   "cell_type": "code",
   "execution_count": null,
   "id": "dace52ed-386c-4eb4-9d6d-03e45f9b305c",
   "metadata": {},
   "outputs": [],
   "source": [
    "#Define attributes that should be ignored\n",
    "not_att = ['_FillValue', 'missing_value', 'coordinates', 'grid_mapping', 'cell_methods']\n",
    "\n",
    "#Getting list of WOA files - Selecting only one averaging period as all shared metadata\n",
    "list_files = glob('/g/data/vf71/WOA_data/global/*/*00*.nc')\n",
    "\n",
    "#Create empty dictionary to store metadata\n",
    "woa_dict = {}"
   ]
  },
  {
   "cell_type": "markdown",
   "id": "df9fb9cd-5965-4224-a8fb-08885c16dc40",
   "metadata": {},
   "source": [
    "## Extracting metadata from WOA files"
   ]
  },
  {
   "cell_type": "code",
   "execution_count": null,
   "id": "2affbc81-df7e-4552-8df1-93a9a6852452",
   "metadata": {},
   "outputs": [],
   "source": [
    "#Get metadata for WOA files\n",
    "for f in list_files:\n",
    "    net = netCDF4.Dataset(f, 'r')\n",
    "    #Only two variables are used in the shiny app\n",
    "    [var] = [i for i in net.variables.keys() if i in ['t_an', 's_an']]\n",
    "    woa_dict[var] = {}\n",
    "    net = net.variables[var]\n",
    "    attrs = [i for i in net.ncattrs() if i not in not_att]\n",
    "    for a in attrs:\n",
    "        woa_dict[var].update({a: net.getncattr(a)})"
   ]
  },
  {
   "cell_type": "markdown",
   "id": "1de51438-44a5-48f7-8ab0-33d859130d60",
   "metadata": {},
   "source": [
    "## Create a data frame from dictionary and save to disk"
   ]
  },
  {
   "cell_type": "code",
   "execution_count": null,
   "id": "10e5d88e-ff7b-4bf4-ba47-e483032e25c9",
   "metadata": {},
   "outputs": [],
   "source": [
    "woa_df = pd.DataFrame(woa_dict).transpose().reset_index(names = 'short_name')\n",
    "\n",
    "#Define path where data will be stored\n",
    "f_out = '/g/data/vf71/WOA_data/woa_var_keys.csv'\n",
    "#Store data \n",
    "woa_df.to_csv(f_out, index = False)"
   ]
  }
 ],
 "metadata": {
  "kernelspec": {
   "display_name": "Python [conda env:analysis3-24.07]",
   "language": "python",
   "name": "conda-env-analysis3-24.07-py"
  },
  "language_info": {
   "codemirror_mode": {
    "name": "ipython",
    "version": 3
   },
   "file_extension": ".py",
   "mimetype": "text/x-python",
   "name": "python",
   "nbconvert_exporter": "python",
   "pygments_lexer": "ipython3",
   "version": "3.10.14"
  }
 },
 "nbformat": 4,
 "nbformat_minor": 5
}
